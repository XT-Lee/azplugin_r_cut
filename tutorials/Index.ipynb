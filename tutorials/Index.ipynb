{
 "cells": [
  {
   "cell_type": "markdown",
   "metadata": {},
   "source": [
    "## Tutorials for azplugins\n",
    "\n",
    "This is a collection of tutorials for the different functionalities implemented in azplugins:\n",
    "  \n",
    "- 00_check_installation: use [00_check_installation.ipynb](00_check_installation/00_check_installation.ipynb)  to check that you have compiled and installed both hoomd and azplugins correctly.\n",
    "\n",
    "- 01_reverse_perturbation contains two tutorials:\n",
    "    - [01_reverse_perturbation_1_LJ.ipynb](01_reverse_perturbation/01_reverse_perturbation_1_LJ.ipynb)\n",
    "    - [01_reverse_perturbation_2_mpcd.ipynb](01_reverse_perturbation/01_reverse_perturbation_2_mpcd.ipynb)\n",
    "\n",
    "- 02_evaporation contains two tutorials:\n",
    "    - [02_explicit_evaporation.ipynb](02_evaporation/02_explicit_evaporation.ipynb)\n",
    "    -  [02_implicit_film_evaporation.ipynb](02_evaporation/02_implicit_film_evaporation.ipynb)"
   ]
  },
  {
   "cell_type": "code",
   "execution_count": null,
   "metadata": {},
   "outputs": [],
   "source": []
  }
 ],
 "metadata": {
  "kernelspec": {
   "display_name": "Python 3",
   "language": "python",
   "name": "python3"
  },
  "language_info": {
   "codemirror_mode": {
    "name": "ipython",
    "version": 3
   },
   "file_extension": ".py",
   "mimetype": "text/x-python",
   "name": "python",
   "nbconvert_exporter": "python",
   "pygments_lexer": "ipython3",
   "version": "3.7.4"
  }
 },
 "nbformat": 4,
 "nbformat_minor": 2
}
