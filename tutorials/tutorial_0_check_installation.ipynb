{
 "cells": [
  {
   "cell_type": "markdown",
   "metadata": {},
   "source": [
    "# Tutorial 0: Check hoomd-blue and azplugins installation"
   ]
  },
  {
   "cell_type": "markdown",
   "metadata": {},
   "source": [
    "Follow the hoomd-blue [installation guide](https://github.com/glotzerlab/hoomd-blue/blob/master/INSTALLING.rst) and install [azplugins](https://github.com/mphoward/azplugins) either as external or internal [plugin](https://hoomd-blue.readthedocs.io/en/stable/developer.html#plugins-and-components). I recommend downloading the code with git from github and compiling from source for both of them, especially if you intend to do any kind of extension/coding/development for them. It is a bit more involved to get started but in the end you will have full control over versions, compilers used, installation path, and so on. For most computational clusters this is the only viable option. If you encounter problems which you can't solve by reading the [documentation](https://hoomd-blue.readthedocs.io/en/stable/index.html), you can ask questions in the [forum](https://groups.google.com/forum/#!forum/hoomd-users).  "
   ]
  },
  {
   "cell_type": "markdown",
   "metadata": {},
   "source": [
    "Make sure you are using compatible versions of hoomd-blue for the azplugin. The main github [page](https://github.com/mphoward/azplugins/blob/master/README.md) will tell you which hoomd-blue version the azplugin is currently tested against. You can change the version of hoomd-blue before compiling by executing `git checkout v2.6.0 ` in the source code folder (change `2.6.0` to whatever version you need). Usually, the compilation will fail if you use a untested/incompatible version. "
   ]
  },
  {
   "cell_type": "markdown",
   "metadata": {},
   "source": [
    "You should execute all hoomd-blue [unit tests](https://hoomd-blue.readthedocs.io/en/stable/installation.html#compiling-from-source) with `ctest` to check the installation, as well as all azplugin unit tests. If you installed it internally, they will be run at the same time as the hoomd-blue tests, but you can run them seperately by using `ctest -R azplugins-*` in the hoomd-blue build folder.  If you installed azplugins externally, you can use `make test` to execute all unit tests. Every time you reinstall hoomd-blue or azplugins on a new machine, or with new compilers, or with changed prerequisites, you should re-run all unit tests to make sure nothing broke. "
   ]
  },
  {
   "cell_type": "markdown",
   "metadata": {},
   "source": [
    "For testing hoomd-blue and the azplugin if you compiled as internal plugin, either open a interactive session of python3 or execute a script with:"
   ]
  },
  {
   "cell_type": "markdown",
   "metadata": {},
   "source": [
    "```Python\n",
    "import hoomd\n",
    "from hoomd import azplugins\n",
    "hoomd.context.initialize()\n",
    "```"
   ]
  },
  {
   "cell_type": "markdown",
   "metadata": {},
   "source": [
    "For testing the azplugin compiled externally:"
   ]
  },
  {
   "cell_type": "markdown",
   "metadata": {},
   "source": [
    "```Python\n",
    "import hoomd\n",
    "import azplugins\n",
    "hoomd.context.initialize()\n",
    "```"
   ]
  },
  {
   "cell_type": "markdown",
   "metadata": {},
   "source": [
    "You should see no error messages and hoomd-blue will tell you some useful information (like its version, where it is running (CPU/GPU), and what compilers were used, when it was compiled) when you initialize the simulation context. This is very helpful and should be carefully checked to make sure you are running what and where you intend to run. It should match the information from `cmake` when you compiled it. \n",
    "Common pitfalls are:"
   ]
  },
  {
   "cell_type": "markdown",
   "metadata": {},
   "source": [
    " - inconsistent/wrong python3 versions. Make sure that the hoomd-blue and azplugins are compiled with the same python3, which is the python you wish to run your simulation scripts with. Also make sure that additional packages like numpy etc. you want to use are also installed for this python3 version. When you execute `cmake` you should carefully check what python3 executable it is using and adjust with ``-DPYTHON_EXECUTABLE=`which python3` `` if needed for both azplugins and hoomd-blue. You can also specify the path to your python3 executable. There are many python environment/package managers like pip, anaconda, pyenv ... check your cluster/local system carefully if needed. You can print your python version with `python3 --version` in the command line and in a script with:\n",
    "     ```Python\n",
    "    import sys\n",
    "    print(sys.version)\n",
    "     ```\n",
    "     \n",
    "- Even if you are executing the script with the correct python3 for which you have installed hoomd-blue and the azplugins, you still need to indicate to python3 where to find them. This can be done in two different ways: \n",
    "    * Appending/prepending the right location to your `$PYTHONPATH` variable in your `~/.bash_rc` or `~/.profile`. Usually it looks like this `PYTHONPATH=\"${PYTHONPATH}:path-to-hoomd`. Don't forget to `source` or restart your terminal. Adding the location to the `PYTHONPATH` has the benefit that azplugins will find hoomd-blue when compiled externally. You can always specify the path for azplugins during cmake with `-DHOOMD_ROOT='~/Programs/hoomd-2.6.0/hoomd` (or similar).\n",
    "    * Importing the package `sys` at the very beginning of your script and setting the paths with `sys.path.insert(0, path-to-hoomd)`, where `path-to-hoomd` is the installation location you set with `-DCMAKE_INSTALL_PREFIX`. Here, azplugins is installed externally. If you installed internally, you only need to set the hoomd-blue path. \n",
    "    ```Python\n",
    "    import sys\n",
    "    sys.path.insert(0,'~/Programs/hoomd-2.6.0/') # for -DCMAKE_INSTALL_PREFIX='~/Programs/hoomd-2.6.0/'\n",
    "    sys.path.insert(0,'~/Programs/azplugins-0.7.0/') # for -DCMAKE_INSTALL_PREFIX='~/Programs/azplugins-2.7.0/'\n",
    "    import hoomd \n",
    "    import azplugins\n",
    "    ```"
   ]
  }
 ],
 "metadata": {
  "kernelspec": {
   "display_name": "Python 3",
   "language": "python",
   "name": "python3"
  },
  "language_info": {
   "codemirror_mode": {
    "name": "ipython",
    "version": 3
   },
   "file_extension": ".py",
   "mimetype": "text/x-python",
   "name": "python",
   "nbconvert_exporter": "python",
   "pygments_lexer": "ipython3",
   "version": "3.7.4"
  }
 },
 "nbformat": 4,
 "nbformat_minor": 2
}
