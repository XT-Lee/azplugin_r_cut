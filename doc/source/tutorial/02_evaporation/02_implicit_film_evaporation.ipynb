{
 "cells": [
  {
   "cell_type": "markdown",
   "metadata": {},
   "source": [
    "# Tutorial 4: Implicit evaporation tutorial"
   ]
  },
  {
   "cell_type": "markdown",
   "metadata": {},
   "source": [
    "Make sure that hoomd-blue and azplugins are installed correctly. For more details see Tutorial 0. \n",
    "A corresponding tutorial with explicit solvent can be found in the same folder.\n",
    "\n",
    "In this tutorial, we will set up a evaporation simulation of solutes with an implicit solvent. For simplicity, we'll use spherical colloids (green, red) which are purely repulsive. The simulation box will be periodic in $x$ and $y$, and have a wall (black) in $z$ direction, the evaporation direction. Because there is no solvent to delete, evaporation is realized by a moving purely repulsive harmonic interface (dashed blue line) pushing down particles during the simulation. "
   ]
  },
  {
   "cell_type": "markdown",
   "metadata": {},
   "source": [
    "![system_sketch](system_sketch2.png)"
   ]
  },
  {
   "cell_type": "markdown",
   "metadata": {},
   "source": [
    "### System setup\n",
    "First, we will initialize the particles in the box with a small helper function ``init_mixture`` which takes the ``system, snapshot`` and some information about the system, such as smaller colloids $\\sigma_B=$ `s_B` and bigger colloids $\\sigma_A=$ `s_A` diameters, respective densities ($\\rho_B=$ `rho_B` and $\\rho_A=$ `rho_A`), desired liquid film height `height`, and temperature `kT`. It returns a filled in snapshot for hoomd to initialize. Depending on the systen, writing a class to initialize the system can be helpful, too. For this tutorial, we just simply put both colloids on a simple cubic lattice such that they don't overlap (checked with ``cdist``). Then, we assing random velocities according to the expected Boltzmann distribution and we also assume that the particles are buoyancy matched, meaning their mass should scale with volume. The bigger colloid is particle type `A` or typeid `0` and the smaller one is type `B`, typeid `1`."
   ]
  },
  {
   "cell_type": "markdown",
   "metadata": {},
   "source": [
    "```Python\n",
    "import numpy as np\n",
    "import sys\n",
    "import hoomd\n",
    "from hoomd import md\n",
    "from hoomd import data\n",
    "from hoomd import azplugins\n",
    "from scipy.spatial.distance import cdist\n",
    "\n",
    "def init_mixture(system,snapshot,rho_B,rho_A,height,s_B,s_A,kT):\n",
    "    Lx = system.box.Lx\n",
    "    Ly = system.box.Ly\n",
    "    Lz = system.box.Lz\n",
    "    N_B = int(rho_B*Lx*Ly*height)\n",
    "    N_A = int(rho_A*Lx*Ly*height)\n",
    "    s_AB = 0.5*(s_B+s_A)\n",
    "\n",
    "    snapshot.particles.resize(N_A+N_B)\n",
    "\n",
    "    lx = np.arange(-Lx/2.+s_A/2.,+Lx/2.,s_A)\n",
    "    ly = np.arange(-Ly/2.+s_A/2.,+Ly/2.,s_A)\n",
    "    lz = np.arange(-Lz/2.+s_AB,-Lz/2.+s_AB+height,s_A)\n",
    "    positions_Square_lattice_A = np.asarray(np.meshgrid(lx, ly, lz)).reshape(3,-1).transpose()\n",
    "    np.random.shuffle(positions_Square_lattice_A)\n",
    "    pos_A = positions_Square_lattice_A[:N_A]\n",
    "\n",
    "    lx = np.arange(-Lx/2.+s_A/2.,+Lx/2.,s_B)\n",
    "    ly = np.arange(-Ly/2.+s_A/2.,+Ly/2.,s_B)\n",
    "    lz = np.arange(-Lz/2.+s_AB,-Lz/2.+s_AB+height,s_B)\n",
    "    positions_Square_lattice_B = np.asarray(np.meshgrid(lx, ly, lz)).reshape(3,-1).transpose()\n",
    "\n",
    "    dist = cdist(positions_Square_lattice_B,pos_A)\n",
    "    eps=0.5\n",
    "    cut = np.any(dist<0.5*(s_A+s_B),axis=1)\n",
    "    positions_Square_lattice_B= positions_Square_lattice_B[~cut]\n",
    "    np.random.shuffle(positions_Square_lattice_B)\n",
    "    pos_B = positions_Square_lattice_B[:N_B]\n",
    "    pos = np.vstack((pos_A,pos_B))\n",
    "    mass_ratio = s_A**3/s_B**3\n",
    "    snapshot.particles.typeid[:]= np.hstack((np.zeros(N_A),np.ones(N_B)))\n",
    "    snapshot.particles.mass[:]= np.hstack((np.ones(N_A)*mass_ratio,np.ones(N_B)))\n",
    "    snapshot.particles.position[:] = pos\n",
    "    snapshot.particles.velocity[:] = np.random.normal(0, np.sqrt(kT), (N_A+N_B,3))\n",
    "    snapshot.particles.velocity[:] -= np.average(snapshot.particles.velocity,axis=0)\n",
    "\n",
    "    return snapshot\n",
    "\n",
    "L = 25\n",
    "Lz = 52\n",
    "height = 50\n",
    "kT = 1.0\n",
    "\n",
    "rho_A = 0.005\n",
    "s_A  = 4.0\n",
    "rho_B = 0.1\n",
    "s_B  = 1.0\n",
    "\n",
    "hoomd.context.initialize()\n",
    "hoomd.context.SimulationContext()\n",
    "\n",
    "snapshot = hoomd.data.make_snapshot(N=0,box=data.boxdim(Lx=L,Ly=L,Lz=Lz),particle_types=['A','B'])\n",
    "system = hoomd.init.read_snapshot(snapshot)\n",
    "\n",
    "snapshot_init = init_mixture(system,snapshot,rho_B,rho_A,height,s_B,s_A,kT)\n",
    "system.restore_snapshot(snapshot_init)\n",
    "```"
   ]
  },
  {
   "cell_type": "markdown",
   "metadata": {},
   "source": [
    "Now, we need to define all interactions in the system. Colloids interact with a purely repulsive WCA potential, and the wall is a Lennard-Jones 9-3 wall, attractive at the bottom and repulsive at the top by cutting the potential at $(2/5)^{1/6.}\\sigma_i$."
   ]
  },
  {
   "cell_type": "markdown",
   "metadata": {},
   "source": [
    "```Python\n",
    "s_AB = 0.5*(s_B+s_A)\n",
    "nl = hoomd.md.nlist.cell()\n",
    "lj = hoomd.md.pair.lj(nlist=nl,r_cut =3.0*s_A,name='n')\n",
    "lj.pair_coeff.set('A', 'A', epsilon=1.0, sigma=s_A, r_cut=2**(1/6.)*s_A)\n",
    "lj.pair_coeff.set('B', 'A', epsilon=1.0, sigma=s_AB, r_cut=2**(1/6.)*s_AB)\n",
    "lj.pair_coeff.set('B', 'B', epsilon=1.0, sigma=s_B, r_cut=2**(1/6.)*s_B)\n",
    "\n",
    "lower_wall=hoomd.md.wall.group()\n",
    "lower_wall.add_plane((0,0,-Lz/2.), (0,0,1))\n",
    "lj_wall_lo=azplugins.wall.lj93(lower_wall, r_cut=3.0*s_AB,name='wall')\n",
    "lj_wall_lo.force_coeff.set(['A','B'], epsilon=2.5, sigma=s_AB, r_cut=3.0*s_AB)\n",
    "\n",
    "upper_wall=hoomd.md.wall.group()\n",
    "upper_wall.add_plane((0,0,Lz/2.), (0,0,-1))\n",
    "lj_wall_up=azplugins.wall.lj93(upper_wall, r_cut=s_AB*(2/5.)**(1/6.))\n",
    "lj_wall_up.force_coeff.set(['A','B'], epsilon=2.5, sigma=s_AB, r_cut=(2/5.)**(1/6.)*s_AB)\n",
    "\n",
    "```"
   ]
  },
  {
   "cell_type": "markdown",
   "metadata": {},
   "source": [
    "\n",
    "### Equilibration\n",
    "\n",
    "First we need to equilibrate the liquid initial lattice configuration. Because there is no explicit solvent, it will fill the entire box at first, so your initial flim height is the distance between the walls. In practice, this should be longer, depending on your system. The friction coefficent $\\gamma=$ ``gamma`` is given by the Stokes–Einstein  diffusion coefficient $D_i = kT/\\gamma_i$. They should be scaled proportionally to the colloid diameters, $\\gamma_A/\\gamma_B = \\sigma_A/\\sigma_B$, consistent with the drag on a sphere in Stokes flow. You can either match measured diffusion coefficents from explicit solvent simulations or match experimental values. "
   ]
  },
  {
   "cell_type": "markdown",
   "metadata": {},
   "source": [
    "```Python\n",
    "all = hoomd.group.all()\n",
    "\n",
    "hoomd.md.integrate.mode_standard(dt = 0.005)\n",
    "langevin = hoomd.md.integrate.langevin(group=all, kT=kT, seed=457)\n",
    "langevin.set_gamma('A', gamma=2.5*s_A/s_B)\n",
    "langevin.set_gamma('B', gamma=2.5)\n",
    "```"
   ]
  },
  {
   "cell_type": "markdown",
   "metadata": {},
   "source": [
    "### Evaporation\n",
    "\n",
    "Now, we need to set up the evaporation. We need a ``hoomd.variant.linear_interp`` for defining the interface position over time, by setting its parameters you'll set the speed of the interface. The interface will move with constant speed $H = H_0 – vt$ from its inital point to the final position. Before moving the interface down, we will allow for a really short equilibration of $10^4$ timesteps, where the interface position stays constant at the top of the box $L_z/2$. Then, we will move the interface from the top of the box to the bottom $-L_z/2+5\\sigma_s$ of the box in $6\\cdot 10^5-10^4$ timesteps. \n",
    "\n"
   ]
  },
  {
   "cell_type": "markdown",
   "metadata": {},
   "source": [
    "```Python\n",
    "interf = hoomd.variant.linear_interp([[0,Lz/2],[1e4,Lz/2],[6e5,-Lz/2+5]],zero=0)\n",
    "evap = azplugins.evaporate.implicit(interface=interf)\n",
    "k = 50.0\n",
    "evap.force_coeff.set('B', k=k*(s_B/2.)**2, offset=0.0, g=k*(s_B/2.)**3, cutoff=s_B/2.)\n",
    "evap.force_coeff.set('A', k=k*(s_A/2.)**2, offset=0.0, g=k*(s_A/2.)**3, cutoff=s_A/2.)\n",
    "```"
   ]
  },
  {
   "cell_type": "markdown",
   "metadata": {},
   "source": [
    "### Evaporation parameters\n",
    "\n",
    "The ``azplugins.evaporate.implicit`` only takes very few arguments: an interface `hoomd.variant` position , a name (optional) and a geometry type, ``\"film\"``(default) or ``\"droplet\"``, where ``\"film\"`` refers to the situation we simulate in this tutorial, and ``\"droplet\"`` corresponds to a spherical evaporation to look at suspended droplet drying. \n",
    "\n",
    "The potential the particles experience by the moving interface at current position $H$ is given by:\n",
    "\n",
    "\\begin{eqnarray*}\n",
    "V(d) =\n",
    "\\begin{cases}\n",
    "& 0 & d < H \\\\\n",
    "     & \\frac{\\kappa}{2} (d-H)^2 & H \\le d < H_{\\rm c} \\\\\n",
    "     & \\frac{\\kappa}{2} (H_{\\rm c} - H)^2 - F_g (d - H_{\\rm c}) & d \\ge H_{\\rm c}\n",
    "     \\end{cases}\n",
    "     \\end{eqnarray*}\n",
    "     \n",
    "The parameters for this potential is set by ``evap.force_coeff.set``. Here  $\\kappa=$ ``k`` is the spring constant for the harmonic force, ``g`` is the strength of the gravitational force $F_g$ downwards above the interface, $\\Delta=$ ``cutoff`` is the cutoff with $H_{\\rm c} = H + \\Delta$. The parameter ``offset`` can be used to introduce a small per-particle-type offset between the interface positions for different particle types. This can be useful to mimic the interface density structure from an explicit evaporation simulation. \n",
    "\n",
    "Typically, good choices would be to set $\\kappa=$ `\\kappa` to scale with the particle\n",
    "    radius squared, $\\Delta=$ `cutoff` equal to the particle radius, and\n",
    "    $F_g = -\\kappa \\Delta$ so that the potential is continued linearly\n",
    "    (the force is continuous) and also that $F_g$ scales with the cube of the\n",
    "    particle radius."
   ]
  },
  {
   "cell_type": "markdown",
   "metadata": {},
   "source": [
    "```Python\n",
    "\n",
    "class measure_evaporation:\n",
    "    def __init__(self, system, binsize):\n",
    "        self.system   = system\n",
    "        self.binsize  = binsize\n",
    "        self.num_bins = np.round(self.system.box.Lz/self.binsize).astype(int)\n",
    "        self.types    = np.asarray(self.system.particles.types)\n",
    "        self.H_dens   = np.zeros((len(self.types),self.num_bins))\n",
    "        self.counter  = 0\n",
    "        self.range    = [-self.system.box.Lz/2.,self.system.box.Lz/2.]\n",
    "        self.bin_vol  = float(self.system.box.Lz)/float(self.num_bins)*self.system.box.Lx*self.system.box.Ly\n",
    "   \n",
    "    def __call__(self, timestep):\n",
    "        hoomd.util.quiet_status()\n",
    "        snap = self.system.take_snapshot()\n",
    "        hoomd.util.unquiet_status()\n",
    "        pos = snap.particles.position\n",
    "        # pick z coordinates\n",
    "        pos_z = pos[:,2]\n",
    "        for t in self.types:\n",
    "            i = np.argwhere(self.types==t)[0][0]\n",
    "            H_dens, edges = np.histogram(pos_z[np.where(snap.particles.typeid==i)],\n",
    "                                         bins = self.num_bins,range=self.range)\n",
    "            self.H_dens[i]  = H_dens\n",
    "        centers  =  (edges[:-1] + edges[1:])/2\n",
    "        temp = np.zeros(len(centers))\n",
    "        # temperature histogram\n",
    "        for i,c in enumerate(centers):\n",
    "            slab_vel = snap.particles.velocity[np.abs(pos[:,2]-c)<self.binsize]\n",
    "            l = len(slab_vel)\n",
    "            if l>0:\n",
    "                v_squared = slab_vel[:,0]**2 + slab_vel[:,1]**2 + slab_vel[:,2]**2\n",
    "                T = 1/(3*l)*np.sum(v_squared)\n",
    "            else:\n",
    "                T=0\n",
    "            temp[i]=T\n",
    "\n",
    "        # normalize density\n",
    "        to_save_H = self.H_dens/self.bin_vol\n",
    "\n",
    "        res = np.vstack((np.asarray(centers),to_save_H,temp)).T\n",
    "        np.savetxt('tutorial_evaporation_implicit_dens_%05d.hist'%hoomd.get_step(),res, \n",
    "                   header=\"z, density %s temp\"%self.types)\n",
    "\n",
    "        self.counter += 1\n",
    "        \n",
    "hoomd.dump.gsd(filename=\"tutorial_01_implicit_evaporation_trajectory.gsd\",\n",
    "               overwrite=True, period=5e3, group=all)\n",
    "\n",
    "hoomd.analyze.log('out.log',period=1,quantities=['pair_lj_energy_n'],overwrite=True)\n",
    "o = measure_evaporation(system, binsize=1.0)\n",
    "analyze =  hoomd.analyze.callback(o, period=5e3)\n",
    "\n",
    "```\n"
   ]
  },
  {
   "cell_type": "markdown",
   "metadata": {},
   "source": [
    "The only thing left to do is run the simulation:\n",
    "```Python\n",
    "hoomd.run(5e5)\n",
    "\n",
    "```\n"
   ]
  },
  {
   "cell_type": "markdown",
   "metadata": {},
   "source": [
    "## Analyzing the results\n",
    "\n",
    "First, have a look at the generated trajectory. Use either [vmd](https://www.ks.uiuc.edu/Research/vmd/) with the [gsd plugin](https://github.com/mphoward/gsd-vmd), [ovito](https://www.ovito.org/), or your favorite configuration viewer. \n",
    "\n",
    "We can also have a look at temperature and density histograms we wrote out during the simulation."
   ]
  },
  {
   "cell_type": "code",
   "execution_count": 15,
   "metadata": {},
   "outputs": [
    {
     "data": {
      "image/png": "[encoded data removed]",
      "text/plain": [
       "<Figure size 432x288 with 3 Axes>"
      ]
     },
     "metadata": {
      "needs_background": "light"
     },
     "output_type": "display_data"
    }
   ],
   "source": [
    "import numpy as np\n",
    "import matplotlib.pyplot as plt\n",
    "\n",
    "fig, ax = plt.subplots(3)\n",
    "    \n",
    "for i in [10000,100000,180000,270000]:\n",
    "    # reading the recorded density profile A S T Z \n",
    "    density_profile = np.genfromtxt('tutorial_evaporation_implicit_dens_%d.hist'%(i), skip_header=True)\n",
    "   \n",
    "    ax[0].plot(density_profile[:,0], density_profile[:,1],label=i)\n",
    "    ax[1].plot(density_profile[:,0], density_profile[:,2])\n",
    "    ax[2].plot(density_profile[:,0], density_profile[:,3])\n",
    "\n",
    "ax[0].legend()\n",
    "ax[0].set_xlabel('$z$')\n",
    "ax[0].set_ylabel('$density_{solute}$')\n",
    "ax[1].set_xlabel('$z$')\n",
    "ax[1].set_ylabel('$density_{solvent}$')\n",
    "ax[2].set_xlabel('$z$')\n",
    "ax[2].set_ylabel('$T$')\n",
    "\n",
    "plt.show()"
   ]
  },
  {
   "cell_type": "markdown",
   "metadata": {},
   "source": [
    "The histograms are fairly noisy and you should repeat the same simulation with different seeds and then average them for better statistics. Because we set interface speed by the values in the ``hoomd.variant.linear_interp`` and the diffusion constants are set in the thermostat (`gamma`), Peclet number can be computed simply by $Pe_i = v H_\\text{init}/D_i$, where $H_\\text{init}$ is the inital film height. "
   ]
  },
  {
   "cell_type": "markdown",
   "metadata": {},
   "source": [
    "### Further reading:\n",
    "\n",
    "- Stratification Dynamics in Drying Colloidal Mixtures https://pubs.acs.org/doi/full/10.1021/acs.langmuir.7b00543\n",
    "\n",
    "- Stratification in Drying Polymer–Polymer and Colloid–Polymer Mixtures https://pubs.acs.org/doi/full/10.1021/acs.langmuir.7b02074\n",
    "\n"
   ]
  }
 ],
 "metadata": {
  "kernelspec": {
   "display_name": "Python 3",
   "language": "python",
   "name": "python3"
  },
  "language_info": {
   "codemirror_mode": {
    "name": "ipython",
    "version": 3
   },
   "file_extension": ".py",
   "mimetype": "text/x-python",
   "name": "python",
   "nbconvert_exporter": "python",
   "pygments_lexer": "ipython3",
   "version": "3.7.4"
  }
 },
 "nbformat": 4,
 "nbformat_minor": 2
}
